{
 "cells": [
  {
   "cell_type": "code",
   "execution_count": 4,
   "id": "f7e725b0-8fb8-4f8b-bd2e-375ed1d59403",
   "metadata": {},
   "outputs": [],
   "source": [
    "import os\n",
    "\n",
    "api_key = \"\"\n",
    "os.environ[\"OPENAI_API_KEY\"] = api_key"
   ]
  },
  {
   "cell_type": "code",
   "execution_count": 5,
   "id": "96d24a4b-7cde-45b3-bc1e-9d8cb0bd432e",
   "metadata": {},
   "outputs": [
    {
     "data": {
      "text/plain": [
       "[Document(metadata={'source': 'datasets/buffett_quotes.txt'}, page_content=\"Warren Buffett: Only when the tide goes out do you discover who's been swimming naked.\\nWarren Buffett: Price is what you pay. Value is what you get.\\nWarren Buffett: When a management with a reputation for brilliance tackles a business with a reputation for bad economics, it is the reputation of the business that remains intact.\\nWarren Buffett: Rule No.1: Never lose money. Rule No.2: Never forget rule No.1.\"),\n",
       " Document(metadata={'source': 'datasets/buffett_quotes.txt'}, page_content=\"Warren Buffett: Rule No.1: Never lose money. Rule No.2: Never forget rule No.1.\\nWarren Buffett: I don't look to jump over 7-foot bars: I look around for 1-foot bars that I can step over.\\nWarren Buffett: I buy expensive suits. They just look cheap on me.\\nWarren Buffett: Derivatives are financial weapons of mass destruction.\\nWarren Buffett: Beware of geeks bearing formulas.\"),\n",
       " Document(metadata={'source': 'datasets/buffett_quotes.txt'}, page_content=\"Warren Buffett: Beware of geeks bearing formulas.\\nWarren Buffett: The business schools reward difficult complex behavior more than simple behavior, but simple behavior is more effective.\\nWarren Buffett: When you combine ignorance and leverage, you get some pretty interesting results.\\nWarren Buffett: Only buy something that you'd be perfectly happy to hold if the market shut down for 10 years.\"),\n",
       " Document(metadata={'source': 'datasets/buffett_quotes.txt'}, page_content='Warren Buffett: In the 20th century, the United States endured two world wars and other traumatic and expensive military conflicts; the Depression; a dozen or so recessions and financial panics; oil shocks; a flu epidemic; and the resignation of a disgraced president. Yet the Dow rose from 66 to 11,497.\\nWarren Buffett: Look at market fluctuations as your friend rather than your enemy; profit from folly rather than participate in it.'),\n",
       " Document(metadata={'source': 'datasets/buffett_quotes.txt'}, page_content=\"Warren Buffett: I sent one e-mail in my life. I sent it to Jeff Raikes at Microsoft, and it ended up in court in Minneapolis, so I am one for one.\\nWarren Buffett: The best thing I did was to choose the right heroes.\\nWarren Buffett: I bought a company in the mid-'90s called Dexter Shoe and paid $400 million for it. And it went to zero. And I gave about $400 million worth of Berkshire stock, which is probably now worth $400 billion. But I've made lots of dumb decisions. That's part of the game.\"),\n",
       " Document(metadata={'source': 'datasets/buffett_quotes.txt'}, page_content=\"Warren Buffett: The first rule is not to lose. The second rule is not to forget the first rule.\\nWarren Buffett: We believe that according the name 'investors' to institutions that trade actively is like calling someone who repeatedly engages in one-night stands a 'romantic.'\\nWarren Buffett: Why not invest your assets in the companies you really like? As Mae West said, 'Too much of a good thing can be wonderful'.\"),\n",
       " Document(metadata={'source': 'datasets/buffett_quotes.txt'}, page_content='Warren Buffett: Someone is sitting in the shade today because someone planted a tree a long time ago.\\nWarren Buffett: Chains of habit are too light to be felt until they are too heavy to be broken.\\nWarren Buffett: Should you find yourself in a chronically leaking boat, energy devoted to changing vessels is likely to be more productive than energy devoted to patching leaks.'),\n",
       " Document(metadata={'source': 'datasets/buffett_quotes.txt'}, page_content=\"Warren Buffett: Wall Street is the only place that people ride to in a Rolls Royce to get advice from those who take the subway.\\nWarren Buffett: In the business world, the rearview mirror is always clearer than the windshield.\\nWarren Buffett: You only have to do a very few things right in your life so long as you don't do too many things wrong.\"),\n",
       " Document(metadata={'source': 'datasets/buffett_quotes.txt'}, page_content=\"Warren Buffett: The only way to get love is to be lovable. It's very irritating if you have a lot of money. You'd like to think you could write a check: 'I'll buy a million dollars' worth of love.' But it doesn't work that way. The more you give love away, the more you get.\\nWarren Buffett: I never attempt to make money on the stock market. I buy on the assumption that they could close the market the next day and not reopen it for five years.\"),\n",
       " Document(metadata={'source': 'datasets/buffett_quotes.txt'}, page_content=\"Warren Buffett: We enjoy the process far more than the proceeds.\\nWarren Buffett: It's better to hang out with people better than you. Pick out associates whose behavior is better than yours and you'll drift in that direction.\\nWarren Buffett: Basically, when you get to my age, you'll really measure your success in life by how many of the people you want to have love you actually do love you.\"),\n",
       " Document(metadata={'source': 'datasets/buffett_quotes.txt'}, page_content=\"Warren Buffett: Your premium brand had better be delivering something special, or it's not going to get the business.\\nWarren Buffett: There seems to be some perverse human characteristic that likes to make easy things difficult.\\nWarren Buffett: The smarter the journalists are, the better off society is. For to a degree, people read the press to inform themselves - and the better the teacher, the better the student body.\"),\n",
       " Document(metadata={'source': 'datasets/buffett_quotes.txt'}, page_content=\"Warren Buffett: The investor of today does not profit from yesterday's growth.\\nWarren Buffett: We always live in an uncertain world. What is certain is that the United States will go forward over time.\"),\n",
       " Document(metadata={'source': 'datasets/buffett_quotes.txt'}, page_content=\"Warren Buffett: Economic medicine that was previously meted out by the cupful has recently been dispensed by the barrel. These once unthinkable dosages will almost certainly bring on unwelcome after-effects. Their precise nature is anyone's guess, though one likely consequence is an onslaught of inflation.\\nWarren Buffett: If a business does well, the stock eventually follows.\"),\n",
       " Document(metadata={'source': 'datasets/buffett_quotes.txt'}, page_content=\"Warren Buffett: If a business does well, the stock eventually follows.\\nWarren Buffett: If you get to my age in life and nobody thinks well of you, I don't care how big your bank account is, your life is a disaster.\\nWarren Buffett: There are 309 million people out there that are trying to improve their lot in life. And we've got a system that allows them to do it.\"),\n",
       " Document(metadata={'source': 'datasets/buffett_quotes.txt'}, page_content='Warren Buffett: I am quite serious when I say that I do not believe there are, on the whole earth besides, so many intensified bores as in these United States. No man can form an adequate idea of the real meaning of the word, without coming here.'),\n",
       " Document(metadata={'source': 'datasets/buffett_quotes.txt'}, page_content=\"Warren Buffett: We've used up a lot of bullets. And we talk about stimulus. But the truth is, we're running a federal deficit that's 9 percent of GDP. That is stimulative as all get out. It's more stimulative than any policy we've followed since World War II.\"),\n",
       " Document(metadata={'source': 'datasets/buffett_quotes.txt'}, page_content=\"Warren Buffett: You know, people talk about this being an uncertain time. You know, all time is uncertain. I mean, it was uncertain back in - in 2007, we just didn't know it was uncertain. It was - uncertain on September 10th, 2001. It was uncertain on October 18th, 1987, you just didn't know it.\\nWarren Buffett: It takes 20 years to build a reputation and five minutes to ruin it. If you think about that, you'll do things differently.\\nWarren Buffett: Risk comes from not knowing what you're doing.\"),\n",
       " Document(metadata={'source': 'datasets/buffett_quotes.txt'}, page_content=\"Warren Buffett: Risk comes from not knowing what you're doing.\\nWarren Buffett: It's far better to buy a wonderful company at a fair price than a fair company at a wonderful price.\\nWarren Buffett: We simply attempt to be fearful when others are greedy and to be greedy only when others are fearful.\\nWarren Buffett: I always knew I was going to be rich. I don't think I ever doubted it for a minute.\\nWarren Buffett: If past history was all there was to the game, the richest people would be librarians.\"),\n",
       " Document(metadata={'source': 'datasets/buffett_quotes.txt'}, page_content=\"Warren Buffett: Time is the friend of the wonderful company, the enemy of the mediocre.\\nWarren Buffett: Predicting rain doesn't count. Building arks does.\\nWarren Buffett: Wide diversification is only required when investors do not understand what they are doing.\\nWarren Buffett: Our favorite holding period is forever.\\nWarren Buffett: A public-opinion poll is no substitute for thought.\\nWarren Buffett: It's never paid to bet against America. We come through things, but its not always a smooth ride.\"),\n",
       " Document(metadata={'source': 'datasets/buffett_quotes.txt'}, page_content=\"Warren Buffett: Risk is a part of God's game, alike for men and nations.\\nWarren Buffett: You do things when the opportunities come along. I've had periods in my life when I've had a bundle of ideas come along, and I've had long dry spells. If I get an idea next week, I'll do something. If not, I won't do a damn thing.\"),\n",
       " Document(metadata={'source': 'datasets/buffett_quotes.txt'}, page_content=\"Warren Buffett: Of the billionaires I have known, money just brings out the basic traits in them. If they were jerks before they had money, they are simply jerks with a billion dollars.\\nWarren Buffett: Today people who hold cash equivalents feel comfortable. They shouldn't. They have opted for a terrible long-term asset, one that pays virtually nothing and is certain to depreciate in value.\"),\n",
       " Document(metadata={'source': 'datasets/buffett_quotes.txt'}, page_content=\"Warren Buffett: The rich are always going to say that, you know, just give us more money and we'll go out and spend more and then it will all trickle down to the rest of you. But that has not worked the last 10 years, and I hope the American public is catching on.\\nWarren Buffett: Value is what you get.\\nWarren Buffett: Let blockheads read what blockheads wrote.\\nWarren Buffett: The only time to buy these is on a day with no 'y' in it.\"),\n",
       " Document(metadata={'source': 'datasets/buffett_quotes.txt'}, page_content=\"Warren Buffett: The only time to buy these is on a day with no 'y' in it.\\nWarren Buffett: I just think that - when a country needs more income and we do, we're only taking in 15 percent of GDP, I mean, that - that - when a country needs more income, they should get it from the people that have it.\\nWarren Buffett: You have no ability, if you're a financial institution and you're threatened with criminal prosecution, you have no ability to negotiate.\"),\n",
       " Document(metadata={'source': 'datasets/buffett_quotes.txt'}, page_content=\"Warren Buffett: The big question about how people behave is whether they've got an Inner Scorecard or an Outer Scorecard. It helps if you can be satisfied with an Inner Scorecard.\\nWarren Buffett: We're still in a recession. We're not gonna be out of it for a while, but we will get out.\"),\n",
       " Document(metadata={'source': 'datasets/buffett_quotes.txt'}, page_content=\"Warren Buffett: I think that both parties should declare the debt limit as a political weapon of mass destruction which can't be used. I mean, it is silly to have a country that has 237 years building up its reputation and then have people threaten to tear it down because they're not getting some other matter.\\nWarren Buffett: I am a huge bull on this country. We will not have a double-dip recession at all. I see our businesses coming back almost across the board.\"),\n",
       " Document(metadata={'source': 'datasets/buffett_quotes.txt'}, page_content=\"Warren Buffett: Americans are in a cycle of fear which leads to people not wanting to spend and not wanting to make investments, and that leads to more fear. We'll break out of it. It takes time.\\nWarren Buffett: If anything, taxes for the lower and middle class and maybe even the upper middle class should even probably be cut further. But I think that people at the high end - people like myself - should be paying a lot more in taxes. We have it better than we've ever had it.\"),\n",
       " Document(metadata={'source': 'datasets/buffett_quotes.txt'}, page_content='Warren Buffett: I think the most important factor in getting out of the recession actually is just the regenerative capacity of - of American capitalism.\\nWarren Buffett: I would say the most satisfying thing actually is watching my three children each pick up on their own interests and work many more hours per week than most people that have jobs at trying to intelligently give away that money in fields that they particularly care about.')]"
      ]
     },
     "execution_count": 5,
     "metadata": {},
     "output_type": "execute_result"
    }
   ],
   "source": [
    "from langchain_community.document_loaders import TextLoader\n",
    "\n",
    "loader = TextLoader(\"datasets/buffett_quotes.txt\")\n",
    "docs = loader.load()\n",
    "\n",
    "from langchain_text_splitters import CharacterTextSplitter\n",
    "\n",
    "text_splitter = CharacterTextSplitter(\n",
    "    separator=\"\\n\",\n",
    "    chunk_size=500,\n",
    "    chunk_overlap=100,\n",
    "    length_function=len,\n",
    "    is_separator_regex=False,\n",
    ")\n",
    "documents = text_splitter.split_documents(docs)\n",
    "documents"
   ]
  },
  {
   "cell_type": "code",
   "execution_count": 6,
   "id": "1ac7fbc6-1cdc-4e4f-8acb-8788449653d1",
   "metadata": {},
   "outputs": [],
   "source": [
    "from langchain_openai.embeddings import OpenAIEmbeddings\n",
    "embed_model = OpenAIEmbeddings(api_key=api_key,\n",
    "                                  model='text-embedding-3-small')"
   ]
  },
  {
   "cell_type": "code",
   "execution_count": 10,
   "id": "5a7a18d2-6e6c-46f5-a049-d0e0f9c4d093",
   "metadata": {},
   "outputs": [
    {
     "data": {
      "text/plain": [
       "\"Warren Buffett: I sent one e-mail in my life. I sent it to Jeff Raikes at Microsoft, and it ended up in court in Minneapolis, so I am one for one.\\nWarren Buffett: The best thing I did was to choose the right heroes.\\nWarren Buffett: I bought a company in the mid-'90s called Dexter Shoe and paid $400 million for it. And it went to zero. And I gave about $400 million worth of Berkshire stock, which is probably now worth $400 billion. But I've made lots of dumb decisions. That's part of the game.\""
      ]
     },
     "execution_count": 10,
     "metadata": {},
     "output_type": "execute_result"
    }
   ],
   "source": [
    "# Chroma DB 사용\n",
    "from langchain_community.vectorstores import Chroma\n",
    "vector_index = Chroma.from_documents(documents, embed_model)\n",
    "retrieved = vector_index.similarity_search(\"What is MistralAI?\")\n",
    "retrieved[0].page_content"
   ]
  },
  {
   "cell_type": "code",
   "execution_count": 14,
   "id": "63cbb891-1460-4cca-b654-89665d2d3062",
   "metadata": {},
   "outputs": [
    {
     "data": {
      "text/plain": [
       "\"Warren Buffett: I sent one e-mail in my life. I sent it to Jeff Raikes at Microsoft, and it ended up in court in Minneapolis, so I am one for one.\\nWarren Buffett: The best thing I did was to choose the right heroes.\\nWarren Buffett: I bought a company in the mid-'90s called Dexter Shoe and paid $400 million for it. And it went to zero. And I gave about $400 million worth of Berkshire stock, which is probably now worth $400 billion. But I've made lots of dumb decisions. That's part of the game.\""
      ]
     },
     "execution_count": 14,
     "metadata": {},
     "output_type": "execute_result"
    }
   ],
   "source": [
    "from langchain_community.vectorstores import FAISS\n",
    "\n",
    "vector_index = FAISS.from_documents(documents, embed_model)\n",
    "retrieved = vector_index.similarity_search(\"What is MistralAI?\")\n",
    "retrieved[0].page_content"
   ]
  },
  {
   "cell_type": "code",
   "execution_count": 16,
   "id": "6495c177-f4de-419e-a376-69b5698e7d10",
   "metadata": {},
   "outputs": [],
   "source": [
    "query = 'OpenAI의 sora모델에 대해 알려줘'"
   ]
  },
  {
   "cell_type": "code",
   "execution_count": 31,
   "id": "8e74c310-98ce-4dff-a375-6cb297d08276",
   "metadata": {},
   "outputs": [
    {
     "name": "stderr",
     "output_type": "stream",
     "text": [
      "/Users/act/.pyenv/versions/3.11.4/envs/py311/lib/python3.11/site-packages/langchain_core/vectorstores.py:435: UserWarning: Relevance scores must be between 0 and 1, got [(Document(metadata={'source': 'datasets/buffett_quotes.txt'}, page_content=\"Warren Buffett: Beware of geeks bearing formulas.\\nWarren Buffett: The business schools reward difficult complex behavior more than simple behavior, but simple behavior is more effective.\\nWarren Buffett: When you combine ignorance and leverage, you get some pretty interesting results.\\nWarren Buffett: Only buy something that you'd be perfectly happy to hold if the market shut down for 10 years.\"), -0.27896904594866934), (Document(metadata={'source': 'datasets/buffett_quotes.txt'}, page_content=\"Warren Buffett: Rule No.1: Never lose money. Rule No.2: Never forget rule No.1.\\nWarren Buffett: I don't look to jump over 7-foot bars: I look around for 1-foot bars that I can step over.\\nWarren Buffett: I buy expensive suits. They just look cheap on me.\\nWarren Buffett: Derivatives are financial weapons of mass destruction.\\nWarren Buffett: Beware of geeks bearing formulas.\"), -0.30528992143111666), (Document(metadata={'source': 'datasets/buffett_quotes.txt'}, page_content=\"Warren Buffett: We've used up a lot of bullets. And we talk about stimulus. But the truth is, we're running a federal deficit that's 9 percent of GDP. That is stimulative as all get out. It's more stimulative than any policy we've followed since World War II.\"), -0.32404948370331543), (Document(metadata={'source': 'datasets/buffett_quotes.txt'}, page_content='Warren Buffett: I am quite serious when I say that I do not believe there are, on the whole earth besides, so many intensified bores as in these United States. No man can form an adequate idea of the real meaning of the word, without coming here.'), -0.32406313928223307)]\n",
      "  warnings.warn(\n",
      "/Users/act/.pyenv/versions/3.11.4/envs/py311/lib/python3.11/site-packages/langchain_core/vectorstores.py:447: UserWarning: No relevant docs were retrieved using the relevance score threshold 0.8\n",
      "  warnings.warn(\n",
      "/Users/act/.pyenv/versions/3.11.4/envs/py311/lib/python3.11/site-packages/langchain_core/vectorstores.py:435: UserWarning: Relevance scores must be between 0 and 1, got [(Document(metadata={'source': 'datasets/buffett_quotes.txt'}, page_content=\"Warren Buffett: Beware of geeks bearing formulas.\\nWarren Buffett: The business schools reward difficult complex behavior more than simple behavior, but simple behavior is more effective.\\nWarren Buffett: When you combine ignorance and leverage, you get some pretty interesting results.\\nWarren Buffett: Only buy something that you'd be perfectly happy to hold if the market shut down for 10 years.\"), -0.27896904594866934), (Document(metadata={'source': 'datasets/buffett_quotes.txt'}, page_content=\"Warren Buffett: Rule No.1: Never lose money. Rule No.2: Never forget rule No.1.\\nWarren Buffett: I don't look to jump over 7-foot bars: I look around for 1-foot bars that I can step over.\\nWarren Buffett: I buy expensive suits. They just look cheap on me.\\nWarren Buffett: Derivatives are financial weapons of mass destruction.\\nWarren Buffett: Beware of geeks bearing formulas.\"), -0.30528992143111666), (Document(metadata={'source': 'datasets/buffett_quotes.txt'}, page_content=\"Warren Buffett: We've used up a lot of bullets. And we talk about stimulus. But the truth is, we're running a federal deficit that's 9 percent of GDP. That is stimulative as all get out. It's more stimulative than any policy we've followed since World War II.\"), -0.32404948370331543), (Document(metadata={'source': 'datasets/buffett_quotes.txt'}, page_content='Warren Buffett: I am quite serious when I say that I do not believe there are, on the whole earth besides, so many intensified bores as in these United States. No man can form an adequate idea of the real meaning of the word, without coming here.'), -0.32406313928223307)]\n",
      "  warnings.warn(\n",
      "/Users/act/.pyenv/versions/3.11.4/envs/py311/lib/python3.11/site-packages/langchain_core/vectorstores.py:447: UserWarning: No relevant docs were retrieved using the relevance score threshold 0.8\n",
      "  warnings.warn(\n"
     ]
    },
    {
     "data": {
      "text/plain": [
       "[]"
      ]
     },
     "execution_count": 31,
     "metadata": {},
     "output_type": "execute_result"
    }
   ],
   "source": [
    "# similarity_search\n",
    "# 벡터 공간에서 주어진 쿼리와 가장 유사한 항목들을 검색하는 데 사용\n",
    "# mmr: maximal marginal relevance retrieval : 검색 결과에서 중복을 최소화하고 다양한 결과를 반환 (쿼리와 문서 거리는 최소화 / 문서들간의 거리는 최대화)\n",
    "retriever = vector_index.as_retriever(search_type=\"mmr\")\n",
    "retriever.get_relevant_documents(query)\n",
    "\n",
    "# similarity_score_threshold : 검색 결과의 유사도 점수의 최소 임계값 (쿼리와의 유사도 점수가 이 임계값보다 낮은 항목은 검색 결과에 포함되지 않음)\n",
    "retriever = vector_index.as_retriever(\n",
    "    search_type=\"similarity_score_threshold\", search_kwargs={\"score_threshold\": 0.8}\n",
    ")\n",
    "retriever.get_relevant_documents(query)\n",
    "\n",
    "# top_k : 검색 결과로 반환할 항목의 최대 개수를 설정\n",
    "retriever = vector_index.as_retriever(search_kwargs={\"k\": 3})\n",
    "retriever.get_relevant_documents(query)\n",
    "\n",
    "# 함께 사용\n",
    "retriever = vector_index.as_retriever(\n",
    "    mmr=True,\n",
    "    search_type=\"similarity_score_threshold\", search_kwargs={\"score_threshold\": 0.8},\n",
    "    top_k=\"3\"\n",
    ")\n",
    "retriever.get_relevant_documents(query)"
   ]
  },
  {
   "cell_type": "markdown",
   "id": "7fd2fabc-e9ba-4b69-8651-718202e2b9d8",
   "metadata": {},
   "source": [
    "# Multi Query retriever\n",
    "* 여러 쿼리로 변환후 검색"
   ]
  },
  {
   "cell_type": "code",
   "execution_count": 32,
   "id": "cd44cb56-07be-4310-8b54-c9ae0d82d42c",
   "metadata": {},
   "outputs": [],
   "source": [
    "import logging # 애플리케이션의 특정 부분에서 발생하는 이벤트를 추적하고 디버깅\n",
    "\n",
    "logging.basicConfig()\n",
    "# langchain.retrievers.multi_query 로거에 대해 INFO 레벨의 로깅을 설정\n",
    "logging.getLogger(\"langchain.retrievers.multi_query\").setLevel(logging.INFO)"
   ]
  },
  {
   "cell_type": "code",
   "execution_count": 33,
   "id": "ca37acc3-07ff-4fac-9b59-0bbdebf8c373",
   "metadata": {},
   "outputs": [],
   "source": [
    "from langchain_openai import ChatOpenAI\n",
    "llm = ChatOpenAI(temperature=0)"
   ]
  },
  {
   "cell_type": "code",
   "execution_count": 34,
   "id": "cd89f0d4-ae7f-4159-9456-6dc2582489b0",
   "metadata": {},
   "outputs": [],
   "source": [
    "from langchain.retrievers.multi_query import MultiQueryRetriever\n",
    "retriever_multi = MultiQueryRetriever.from_llm(\n",
    "    retriever=vector_index.as_retriever(), llm=llm\n",
    ")"
   ]
  },
  {
   "cell_type": "code",
   "execution_count": 35,
   "id": "d35e6504-bafb-47d8-8c33-280ec09f07e5",
   "metadata": {},
   "outputs": [
    {
     "name": "stderr",
     "output_type": "stream",
     "text": [
      "INFO:langchain.retrievers.multi_query:Generated queries: ['1. sora 모델에 대한 OpenAI의 정보를 알려줄래?', '2. OpenAI에서 개발한 sora 모델에 대해 자세히 설명해줄 수 있나요?', '3. sora 모델과 OpenAI의 관련성에 대해 알려주세요.']\n"
     ]
    },
    {
     "data": {
      "text/plain": [
       "[Document(metadata={'source': 'datasets/buffett_quotes.txt'}, page_content=\"Warren Buffett: Beware of geeks bearing formulas.\\nWarren Buffett: The business schools reward difficult complex behavior more than simple behavior, but simple behavior is more effective.\\nWarren Buffett: When you combine ignorance and leverage, you get some pretty interesting results.\\nWarren Buffett: Only buy something that you'd be perfectly happy to hold if the market shut down for 10 years.\"),\n",
       " Document(metadata={'source': 'datasets/buffett_quotes.txt'}, page_content=\"Warren Buffett: Rule No.1: Never lose money. Rule No.2: Never forget rule No.1.\\nWarren Buffett: I don't look to jump over 7-foot bars: I look around for 1-foot bars that I can step over.\\nWarren Buffett: I buy expensive suits. They just look cheap on me.\\nWarren Buffett: Derivatives are financial weapons of mass destruction.\\nWarren Buffett: Beware of geeks bearing formulas.\"),\n",
       " Document(metadata={'source': 'datasets/buffett_quotes.txt'}, page_content=\"Warren Buffett: Risk comes from not knowing what you're doing.\\nWarren Buffett: It's far better to buy a wonderful company at a fair price than a fair company at a wonderful price.\\nWarren Buffett: We simply attempt to be fearful when others are greedy and to be greedy only when others are fearful.\\nWarren Buffett: I always knew I was going to be rich. I don't think I ever doubted it for a minute.\\nWarren Buffett: If past history was all there was to the game, the richest people would be librarians.\"),\n",
       " Document(metadata={'source': 'datasets/buffett_quotes.txt'}, page_content=\"Warren Buffett: The big question about how people behave is whether they've got an Inner Scorecard or an Outer Scorecard. It helps if you can be satisfied with an Inner Scorecard.\\nWarren Buffett: We're still in a recession. We're not gonna be out of it for a while, but we will get out.\"),\n",
       " Document(metadata={'source': 'datasets/buffett_quotes.txt'}, page_content=\"Warren Buffett: Your premium brand had better be delivering something special, or it's not going to get the business.\\nWarren Buffett: There seems to be some perverse human characteristic that likes to make easy things difficult.\\nWarren Buffett: The smarter the journalists are, the better off society is. For to a degree, people read the press to inform themselves - and the better the teacher, the better the student body.\")]"
      ]
     },
     "execution_count": 35,
     "metadata": {},
     "output_type": "execute_result"
    }
   ],
   "source": [
    "retriever_multi.get_relevant_documents(query=\"OpenAI의 sora모델에 대해 알려줘\")"
   ]
  },
  {
   "cell_type": "markdown",
   "id": "95b298c8-2cd5-4819-8334-fb51dbfbba98",
   "metadata": {},
   "source": [
    "# Parent Document Retriever\n",
    "* 주어진 쿼리에 대해 관련 있는 문서 또는 텍스트 블록을 효율적으로 검색\n",
    "* 대규모 문서 집합에서 특정 쿼리에 대한 적절한 문서를 찾는 데 효과적\n",
    "* 문서 집합을 계층적 구조로 인덱싱\n",
    "* 쿼리에 가장 관련성이 높은 상위 레벨 문서를 검색\n",
    "* 쿼리에 가장 적합한 상위 문서(Parent Document)를 반환하여 사용자가 필요한 정보를 포함하는 문서 부분 전체를 볼 수 있게함"
   ]
  },
  {
   "cell_type": "code",
   "execution_count": 47,
   "id": "0e3a0bb0-d3f4-4648-bd66-a26ffa7e6aad",
   "metadata": {},
   "outputs": [
    {
     "data": {
      "text/plain": [
       "[Document(metadata={'source': 'datasets/buffett_quotes.txt'}, page_content=\"Warren Buffett: Americans are in a cycle of fear which leads to people not wanting to spend and not wanting to make investments, and that leads to more fear. We'll break out of it. It takes time.\\nWarren Buffett: If anything, taxes for the lower and middle class and maybe even the upper middle class should even probably be cut further. But I think that people at the high end - people like myself - should be paying a lot more in taxes. We have it better than we've ever had it.\\nWarren Buffett: I think the most important factor in getting out of the recession actually is just the regenerative capacity of - of American capitalism.\\nWarren Buffett: I would say the most satisfying thing actually is watching my three children each pick up on their own interests and work many more hours per week than most people that have jobs at trying to intelligently give away that money in fields that they particularly care about.\")]"
      ]
     },
     "execution_count": 47,
     "metadata": {},
     "output_type": "execute_result"
    }
   ],
   "source": [
    "from langchain.retrievers import ParentDocumentRetriever\n",
    "from langchain.storage import InMemoryStore\n",
    "from langchain_text_splitters import RecursiveCharacterTextSplitter\n",
    "\n",
    "store = InMemoryStore()\n",
    "\n",
    "parent_splitter = RecursiveCharacterTextSplitter(chunk_size=1000)\n",
    "child_splitter = RecursiveCharacterTextSplitter(chunk_size=200)\n",
    "\n",
    "vector_index = Chroma(collection_name='split_parents', embedding_function=embed_model)\n",
    "\n",
    "retriever = ParentDocumentRetriever(\n",
    "    vectorstore=vector_index,\n",
    "    docstore=store,\n",
    "    child_splitter=child_splitter,\n",
    "    parent_splitter=parent_splitter,\n",
    ")\n",
    "retriever.add_documents(docs)\n",
    "retriever.get_relevant_documents(query=\"OpenAI의 sora모델에 대해 알려줘\")"
   ]
  },
  {
   "cell_type": "markdown",
   "id": "6ed96e4a-2070-4199-9e27-0aa21d5a363c",
   "metadata": {},
   "source": [
    "# GENERATOR"
   ]
  },
  {
   "cell_type": "code",
   "execution_count": 49,
   "id": "b19d6715-7e38-4c8c-b659-b96b5c6d20df",
   "metadata": {},
   "outputs": [
    {
     "data": {
      "text/plain": [
       "AIMessage(content='OpenAI의 sora 모델은 자연어 처리 모델 중 하나로, 특히 한국어에 특화된 모델입니다. 이 모델은 GPT-3와 같은 대규모 언어 모델을 기반으로 하며, 한국어 텍스트를 생성하고 이해하는 데 사용됩니다.\\n\\nsora 모델은 한국어 자연어 처리 분야에서 다양한 작업에 활용될 수 있으며, 특히 대화 시스템, 번역, 요약, 질문 응답 등의 작업에 적합합니다. 이 모델은 한국어 데이터를 학습하여 다양한 문제를 해결할 수 있는 능력을 갖추고 있습니다.\\n\\n또한 sora 모델은 OpenAI가 공개한 다른 모델과 마찬가지로 공개적으로 사용 가능하며, 개발자들이 이 모델을 활용하여 자연어 처리 관련 프로젝트를 진행할 수 있습니다. 이를 통해 한국어 자연어 처리 기술의 발전에 기여할 수 있습니다.', response_metadata={'token_usage': {'completion_tokens': 321, 'prompt_tokens': 25, 'total_tokens': 346}, 'model_name': 'gpt-3.5-turbo-0125', 'system_fingerprint': None, 'finish_reason': 'stop', 'logprobs': None}, id='run-645a09d4-c3f4-44ea-bd15-101eba141520-0', usage_metadata={'input_tokens': 25, 'output_tokens': 321, 'total_tokens': 346})"
      ]
     },
     "execution_count": 49,
     "metadata": {},
     "output_type": "execute_result"
    }
   ],
   "source": [
    "from langchain_openai import ChatOpenAI\n",
    "\n",
    "llm = ChatOpenAI(temperature=0, model=\"gpt-3.5-turbo\")\n",
    "llm.invoke(\"OpenAI의 sora모델에 대해 알려줘\")"
   ]
  },
  {
   "cell_type": "markdown",
   "id": "93796875-d0e0-473e-bf49-e8b42bf46116",
   "metadata": {},
   "source": [
    "# CHAIN"
   ]
  },
  {
   "cell_type": "code",
   "execution_count": 50,
   "id": "261cd21a-9aee-43d9-a830-32ab65713160",
   "metadata": {},
   "outputs": [
    {
     "data": {
      "text/plain": [
       "AIMessage(content=\"Did you know that honey never spoils? Archaeologists have found pots of honey in ancient Egyptian tombs that are over 3,000 years old and still perfectly edible. Honey's low water content and acidic pH make it resistant to bacteria and spoilage.\", response_metadata={'token_usage': {'completion_tokens': 52, 'prompt_tokens': 10, 'total_tokens': 62}, 'model_name': 'gpt-3.5-turbo-0125', 'system_fingerprint': None, 'finish_reason': 'stop', 'logprobs': None}, id='run-2cc815fe-501f-42cb-abb7-dde021c42e60-0', usage_metadata={'input_tokens': 10, 'output_tokens': 52, 'total_tokens': 62})"
      ]
     },
     "execution_count": 50,
     "metadata": {},
     "output_type": "execute_result"
    }
   ],
   "source": [
    "from langchain_core.prompts import ChatPromptTemplate\n",
    "from langchain_core.runnables import RunnablePassthrough\n",
    "\n",
    "prompt = ChatPromptTemplate.from_template(\"Tell me something\")\n",
    "chain = prompt | llm\n",
    "chain.invoke({})"
   ]
  },
  {
   "cell_type": "code",
   "execution_count": 51,
   "id": "e2b149fe-3ee1-4534-bd84-c2f68af13690",
   "metadata": {},
   "outputs": [
    {
     "data": {
      "text/plain": [
       "\"Did you know that honey never spoils? Archaeologists have found pots of honey in ancient Egyptian tombs that are over 3,000 years old and still perfectly edible. Honey's high sugar content and low moisture levels create an environment that is inhospitable to bacteria and microorganisms, allowing it to remain preserved indefinitely.\""
      ]
     },
     "execution_count": 51,
     "metadata": {},
     "output_type": "execute_result"
    }
   ],
   "source": [
    "from langchain_core.prompts import ChatPromptTemplate\n",
    "from langchain_core.runnables import RunnablePassthrough\n",
    "from langchain_core.output_parsers import StrOutputParser\n",
    "\n",
    "prompt = ChatPromptTemplate.from_template(\"Tell me something\")\n",
    "chain = prompt | llm | StrOutputParser()\n",
    "chain.invoke({})"
   ]
  },
  {
   "cell_type": "code",
   "execution_count": 52,
   "id": "455708ef-3c17-4954-8d63-6a3cb2a46692",
   "metadata": {},
   "outputs": [
    {
     "data": {
      "text/plain": [
       "'디아블로 4는 블리자드 엔터테인먼트가 개발 중인 액션 RPG 게임으로, 디아블로 시리즈의 네 번째 작품입니다. 이 게임은 공식적으로 발표되었으며, 플레이어들은 공포와 어둠이 넘치는 고어한 판타지 세계를 탐험하며 몬스터를 물리치고 보물을 찾아야 합니다. 디아블로 4는 멀티플레이어 기능을 강화하고, 더욱 현실적인 그래픽과 다양한 캐릭터 클래스를 제공하여 플레이어들에게 더욱 흥미로운 경험을 제공할 것으로 기대됩니다. 아직 출시일은 공개되지 않았지만, 많은 팬들이 기대하고 있습니다.'"
      ]
     },
     "execution_count": 52,
     "metadata": {},
     "output_type": "execute_result"
    }
   ],
   "source": [
    "from langchain_core.prompts import ChatPromptTemplate\n",
    "from langchain_core.output_parsers import StrOutputParser\n",
    "\n",
    "prompt = ChatPromptTemplate.from_template(\"Tell me something about {topic}\")\n",
    "chain = prompt | llm | StrOutputParser()\n",
    "chain.invoke({'topic': '디아블로4'})"
   ]
  },
  {
   "cell_type": "code",
   "execution_count": null,
   "id": "ad20151d-2c91-489b-a61e-9deae9f2d7b6",
   "metadata": {},
   "outputs": [],
   "source": [
    "# 위 체인은 아래와 같음1\n",
    "prompt_formatted = prompt.invoke({'topic': '디아블로4'})\n",
    "model_output = llm.invoke(prompt_formatted)\n",
    "parser = StrOutputParser()\n",
    "parser.invoke(model_output)\n",
    "\n",
    "# 위 체인은 아래와 같음2 \n",
    "(prompt | llm | parser).invoke({'topic': '디아블로4'})"
   ]
  },
  {
   "cell_type": "code",
   "execution_count": 55,
   "id": "f8d5f11d-3cb7-4ea1-aeb1-2b771edf8aaa",
   "metadata": {},
   "outputs": [
    {
     "data": {
      "text/plain": [
       "\"Warren Buffett: Risk comes from not knowing what you're doing.\\nWarren Buffett: Price is what you pay. Value is what you get.\\nWarren Buffett: It takes 20 years to build a reputation and five minutes to ruin it. If you think about that, you'll do things differently.\\nWarren Buffett: The stock market is designed to transfer money from the active to the patient.\\nWarren Buffett: The most important quality for an investor is temperament, not intellect. You need a temperament that neither derives great pleasure from being with the crowd or against the crowd.\\nWarren Buffett: In the business world, the rearview mirror is always clearer than the windshield.\\nWarren Buffett: It's far better to buy a wonderful company at a fair price than a fair company at a wonderful price.\""
      ]
     },
     "execution_count": 55,
     "metadata": {},
     "output_type": "execute_result"
    }
   ],
   "source": [
    "# 질문을 retrieval 해서 찾아온 뒤 정제 하고 해당 llm 에 묻기 chain => 하지만 retreiver 결과만 넘겨서 답이 잘 안나옴 => RunnableParallel 사용\n",
    "retrieved_docs = retriever.invoke(\"디아블로4\")\n",
    "def merge_docs(retrieved_docs):\n",
    "    return \"\\n\\n\".join([d.page_content for d in retrieved_docs])\n",
    "(retriever | merge_docs | llm | StrOutputParser()).invoke(\"Tell me something about 디아블로4\")"
   ]
  },
  {
   "cell_type": "code",
   "execution_count": 57,
   "id": "4ae58409-b730-4be0-8041-c0593c18a6e1",
   "metadata": {},
   "outputs": [
    {
     "data": {
      "text/plain": [
       "{'context': [Document(metadata={'source': 'datasets/buffett_quotes.txt'}, page_content=\"Warren Buffett: The best thing I did was to choose the right heroes.\\nWarren Buffett: I bought a company in the mid-'90s called Dexter Shoe and paid $400 million for it. And it went to zero. And I gave about $400 million worth of Berkshire stock, which is probably now worth $400 billion. But I've made lots of dumb decisions. That's part of the game.\\nWarren Buffett: The first rule is not to lose. The second rule is not to forget the first rule.\\nWarren Buffett: We believe that according the name 'investors' to institutions that trade actively is like calling someone who repeatedly engages in one-night stands a 'romantic.'\\nWarren Buffett: Why not invest your assets in the companies you really like? As Mae West said, 'Too much of a good thing can be wonderful'.\\nWarren Buffett: Someone is sitting in the shade today because someone planted a tree a long time ago.\\nWarren Buffett: Chains of habit are too light to be felt until they are too heavy to be broken.\")],\n",
       " 'llm': AIMessage(content='디아블로4는 블리자드 엔터테인먼트가 개발 중인 액션 RPG 게임으로, 디아블로 시리즈의 네 번째 작품입니다. 이 게임은 공식적으로 발표되었으며, 플레이어들은 공포와 어둠이 넘치는 고어한 판타지 세계를 탐험하며 몬스터를 물리치고 보물을 찾는 모험을 즐길 수 있습니다. 디아블로4는 멀티플레이어 기능을 강조하며, 플레이어들은 혼자서 또는 친구들과 함께 플레이할 수 있습니다. 게임은 PC와 콘솔 플랫폼에서 플레이할 수 있으며, 그래픽과 게임플레이 측면에서 이전 시리즈보다 더욱 현대화된 요소를 담고 있습니다. 디아블로 시리즈의 팬이라면, 디아블로4가 기대되는 게임 중 하나일 것입니다.', response_metadata={'token_usage': {'completion_tokens': 340, 'prompt_tokens': 18, 'total_tokens': 358}, 'model_name': 'gpt-3.5-turbo-0125', 'system_fingerprint': None, 'finish_reason': 'stop', 'logprobs': None}, id='run-11c7471c-7203-4c60-a01b-b19471b2a77c-0', usage_metadata={'input_tokens': 18, 'output_tokens': 340, 'total_tokens': 358})}"
      ]
     },
     "execution_count": 57,
     "metadata": {},
     "output_type": "execute_result"
    }
   ],
   "source": [
    "# Runnable Parallel:  병렬로 여러 작업을 실행\n",
    "from langchain_core.runnables import RunnableParallel\n",
    "\n",
    "chain_parallel = RunnableParallel({\"context\": retriever, \"llm\": llm})\n",
    "chain_parallel.invoke(\"Tell me something about 디아블로4\")"
   ]
  },
  {
   "cell_type": "code",
   "execution_count": 58,
   "id": "bf83d67e-83de-40bb-b4eb-4de2f26d78bd",
   "metadata": {},
   "outputs": [
    {
     "data": {
      "text/plain": [
       "{'context': [Document(metadata={'source': 'datasets/buffett_quotes.txt'}, page_content=\"Warren Buffett: The best thing I did was to choose the right heroes.\\nWarren Buffett: I bought a company in the mid-'90s called Dexter Shoe and paid $400 million for it. And it went to zero. And I gave about $400 million worth of Berkshire stock, which is probably now worth $400 billion. But I've made lots of dumb decisions. That's part of the game.\\nWarren Buffett: The first rule is not to lose. The second rule is not to forget the first rule.\\nWarren Buffett: We believe that according the name 'investors' to institutions that trade actively is like calling someone who repeatedly engages in one-night stands a 'romantic.'\\nWarren Buffett: Why not invest your assets in the companies you really like? As Mae West said, 'Too much of a good thing can be wonderful'.\\nWarren Buffett: Someone is sitting in the shade today because someone planted a tree a long time ago.\\nWarren Buffett: Chains of habit are too light to be felt until they are too heavy to be broken.\")],\n",
       " 'query': 'Tell me something about 디아블로4'}"
      ]
     },
     "execution_count": 58,
     "metadata": {},
     "output_type": "execute_result"
    }
   ],
   "source": [
    "# 입력을 그대로 출력으로 전달\n",
    "from langchain_core.runnables import RunnablePassthrough\n",
    "\n",
    "chain_parallel = RunnableParallel({\"context\": retriever, \"query\": RunnablePassthrough()})\n",
    "chain_parallel.invoke(\"Tell me something about 디아블로4\")"
   ]
  },
  {
   "cell_type": "code",
   "execution_count": 66,
   "id": "71defb0c-50bc-4a3e-854d-d1e6a125006a",
   "metadata": {},
   "outputs": [],
   "source": [
    "template = \"\"\"\n",
    "Utilizing the context given below, answer the question.\n",
    "[context]\n",
    "{context}\n",
    "\n",
    "question: {query}\n",
    "\"\"\"\n",
    "\n",
    "prompt = ChatPromptTemplate.from_template(template)\n",
    "chain = RunnableParallel({\"context\": retriever, \"query\": RunnablePassthrough()})\\\n",
    "        | prompt \\\n",
    "        | llm \\\n",
    "        | StrOutputParser()"
   ]
  },
  {
   "cell_type": "code",
   "execution_count": 67,
   "id": "d60275bf-08ac-4fba-881f-41c1d3a40ee4",
   "metadata": {},
   "outputs": [
    {
     "data": {
      "text/plain": [
       "\"I'm sorry, but there is no information provided in the context about Diablo 4. Would you like to ask about something else?\""
      ]
     },
     "execution_count": 67,
     "metadata": {},
     "output_type": "execute_result"
    }
   ],
   "source": [
    "chain.invoke(\"Tell me something about 디아블로4\")"
   ]
  },
  {
   "cell_type": "code",
   "execution_count": 64,
   "id": "7c2a547b-dc21-4538-9bba-aede9ec9db02",
   "metadata": {},
   "outputs": [
    {
     "data": {
      "text/plain": [
       "ChatPromptValue(messages=[HumanMessage(content='\\nUtilizing the context given below, answer the question.\\n[context]\\n[Document(metadata={\\'source\\': \\'datasets/buffett_quotes.txt\\'}, page_content=\"Warren Buffett: The best thing I did was to choose the right heroes.\\\\nWarren Buffett: I bought a company in the mid-\\'90s called Dexter Shoe and paid $400 million for it. And it went to zero. And I gave about $400 million worth of Berkshire stock, which is probably now worth $400 billion. But I\\'ve made lots of dumb decisions. That\\'s part of the game.\\\\nWarren Buffett: The first rule is not to lose. The second rule is not to forget the first rule.\\\\nWarren Buffett: We believe that according the name \\'investors\\' to institutions that trade actively is like calling someone who repeatedly engages in one-night stands a \\'romantic.\\'\\\\nWarren Buffett: Why not invest your assets in the companies you really like? As Mae West said, \\'Too much of a good thing can be wonderful\\'.\\\\nWarren Buffett: Someone is sitting in the shade today because someone planted a tree a long time ago.\\\\nWarren Buffett: Chains of habit are too light to be felt until they are too heavy to be broken.\")]\\n\\nquestion: Tell me something about 디아블로4\\n')])"
      ]
     },
     "execution_count": 64,
     "metadata": {},
     "output_type": "execute_result"
    }
   ],
   "source": [
    "# prompt 까지만 확인\n",
    "chain = RunnableParallel({\"context\": retriever, \"query\": RunnablePassthrough()})\\\n",
    "        | prompt\n",
    "chain.invoke(\"Tell me something about 디아블로4\")"
   ]
  },
  {
   "cell_type": "code",
   "execution_count": 65,
   "id": "f46b9b50-d65a-46d9-b1a4-bec3e04064ac",
   "metadata": {},
   "outputs": [
    {
     "data": {
      "text/plain": [
       "ChatPromptValue(messages=[HumanMessage(content='\\nUtilizing the context given below, answer the question.\\n[context]\\n[Document(metadata={\\'source\\': \\'datasets/buffett_quotes.txt\\'}, page_content=\"Warren Buffett: The best thing I did was to choose the right heroes.\\\\nWarren Buffett: I bought a company in the mid-\\'90s called Dexter Shoe and paid $400 million for it. And it went to zero. And I gave about $400 million worth of Berkshire stock, which is probably now worth $400 billion. But I\\'ve made lots of dumb decisions. That\\'s part of the game.\\\\nWarren Buffett: The first rule is not to lose. The second rule is not to forget the first rule.\\\\nWarren Buffett: We believe that according the name \\'investors\\' to institutions that trade actively is like calling someone who repeatedly engages in one-night stands a \\'romantic.\\'\\\\nWarren Buffett: Why not invest your assets in the companies you really like? As Mae West said, \\'Too much of a good thing can be wonderful\\'.\\\\nWarren Buffett: Someone is sitting in the shade today because someone planted a tree a long time ago.\\\\nWarren Buffett: Chains of habit are too light to be felt until they are too heavy to be broken.\")]\\n\\nquestion: Tell me something about 디아블로4\\n')])"
      ]
     },
     "execution_count": 65,
     "metadata": {},
     "output_type": "execute_result"
    }
   ],
   "source": [
    "# RunnableParallel 사용하지않은 경우 (병렬실행안됨)\n",
    "chain = {\"context\": retriever, \"query\": RunnablePassthrough()}\\\n",
    "        | prompt\n",
    "chain.invoke(\"Tell me something about 디아블로4\")"
   ]
  },
  {
   "cell_type": "code",
   "execution_count": null,
   "id": "266e186c-2706-49fd-9f92-dae5d6903205",
   "metadata": {},
   "outputs": [],
   "source": []
  }
 ],
 "metadata": {
  "kernelspec": {
   "display_name": "Python 3 (ipykernel)",
   "language": "python",
   "name": "python3"
  },
  "language_info": {
   "codemirror_mode": {
    "name": "ipython",
    "version": 3
   },
   "file_extension": ".py",
   "mimetype": "text/x-python",
   "name": "python",
   "nbconvert_exporter": "python",
   "pygments_lexer": "ipython3",
   "version": "3.11.4"
  }
 },
 "nbformat": 4,
 "nbformat_minor": 5
}
