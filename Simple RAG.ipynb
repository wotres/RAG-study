{
 "cells": [
  {
   "cell_type": "code",
   "execution_count": 5,
   "id": "77b0181d-c788-4fd3-a9a9-3f1e8a6f11aa",
   "metadata": {},
   "outputs": [],
   "source": [
    "from langchain_community.document_loaders import DirectoryLoader\n",
    "from langchain_text_splitters import RecursiveCharacterTextSplitter\n",
    "from langchain_openai.embeddings import OpenAIEmbeddings\n",
    "from langchain_community.vectorstores import FAISS\n",
    "from langchain_openai import ChatOpenAI\n",
    "from langchain import hub\n",
    "from langchain_core.runnables import RunnableParallel, RunnablePassthrough\n",
    "from langchain_core.output_parsers import StrOutputParser\n",
    "import os\n",
    "\n",
    "api_key = \"\"\n",
    "os.environ[\"OPENAI_API_KEY\"] = api_key"
   ]
  },
  {
   "cell_type": "code",
   "execution_count": 10,
   "id": "b59732d8-0847-4245-b6f5-ec8d244a776d",
   "metadata": {},
   "outputs": [
    {
     "data": {
      "text/plain": [
       "ChatPromptTemplate(input_variables=['context', 'question'], metadata={'lc_hub_owner': 'rlm', 'lc_hub_repo': 'rag-prompt', 'lc_hub_commit_hash': '50442af133e61576e74536c6556cefe1fac147cad032f4377b60c436e6cdcb6e'}, messages=[HumanMessagePromptTemplate(prompt=PromptTemplate(input_variables=['context', 'question'], template=\"You are an assistant for question-answering tasks. Use the following pieces of retrieved context to answer the question. If you don't know the answer, just say that you don't know. Use three sentences maximum and keep the answer concise.\\nQuestion: {question} \\nContext: {context} \\nAnswer:\"))])"
      ]
     },
     "execution_count": 10,
     "metadata": {},
     "output_type": "execute_result"
    }
   ],
   "source": [
    "loader = DirectoryLoader('datasets', glob=\"*\", show_progress=True)\n",
    "\n",
    "text_splitter = RecursiveCharacterTextSplitter(\n",
    "    separators=[\"\\n\\n\", \"\\n\", \" \"],\n",
    "    chunk_size=500,\n",
    "    chunk_overlap=20,\n",
    "    length_function=len,\n",
    "    is_separator_regex=False,\n",
    ")\n",
    "\n",
    "embed_model = OpenAIEmbeddings(api_key=api_key,\n",
    "                                  model='text-embedding-3-small')\n",
    "\n",
    "llm = ChatOpenAI(temperature=0, model=\"gpt-3.5-turbo\")\n",
    "\n",
    "prompt = hub.pull(\"rlm/rag-prompt\")\n",
    "prompt"
   ]
  },
  {
   "cell_type": "code",
   "execution_count": 12,
   "id": "7624d50c-8af5-40a2-bf12-6aef513d2531",
   "metadata": {},
   "outputs": [
    {
     "name": "stderr",
     "output_type": "stream",
     "text": [
      "\n",
      "100%|█████████████████████████████████████████████| 1/1 [00:00<00:00, 19.21it/s]\u001b[A\n"
     ]
    }
   ],
   "source": [
    "def merge_docs(retrieved_docs):\n",
    "    return \"\\n\\n\".join([d.page_content for d in retrieved_docs])\n",
    "docs = loader.load()\n",
    "documents = text_splitter.split_documents(docs)\n",
    "vector_index = FAISS.from_documents(documents, embed_model)\n",
    "retriever = vector_index.as_retriever(search_type=\"mmr\")"
   ]
  },
  {
   "cell_type": "code",
   "execution_count": 14,
   "id": "063276c0-d033-4fc2-8c4f-0e3fb33b3a92",
   "metadata": {},
   "outputs": [
    {
     "data": {
      "text/plain": [
       "ChatPromptValue(messages=[HumanMessage(content='You are an assistant for question-answering tasks. Use the following pieces of retrieved context to answer the question. If you don\\'t know the answer, just say that you don\\'t know. Use three sentences maximum and keep the answer concise.\\nQuestion: Tell me something about sora, developed by OpenAI \\nContext: [Document(metadata={\\'source\\': \\'datasets/buffett_quotes.txt\\'}, page_content=\"Warren Buffett: The smarter the journalists are, the better off society is. For to a degree, people read the press to inform themselves - and the better the teacher, the better the student body.\\\\n\\\\nWarren Buffett: The investor of today does not profit from yesterday\\'s growth.\\\\n\\\\nWarren Buffett: We always live in an uncertain world. What is certain is that the United States will go forward over time.\"), Document(metadata={\\'source\\': \\'datasets/buffett_quotes.txt\\'}, page_content=\"Warren Buffett: We\\'ve used up a lot of bullets. And we talk about stimulus. But the truth is, we\\'re running a federal deficit that\\'s 9 percent of GDP. That is stimulative as all get out. It\\'s more stimulative than any policy we\\'ve followed since World War II.\"), Document(metadata={\\'source\\': \\'datasets/buffett_quotes.txt\\'}, page_content=\\'Warren Buffett: I sent one e-mail in my life. I sent it to Jeff Raikes at Microsoft, and it ended up in court in Minneapolis, so I am one for one.\\\\n\\\\nWarren Buffett: The best thing I did was to choose the right heroes.\\'), Document(metadata={\\'source\\': \\'datasets/buffett_quotes.txt\\'}, page_content=\\'Warren Buffett: I am quite serious when I say that I do not believe there are, on the whole earth besides, so many intensified bores as in these United States. No man can form an adequate idea of the real meaning of the word, without coming here.\\')] \\nAnswer:')])"
      ]
     },
     "execution_count": 14,
     "metadata": {},
     "output_type": "execute_result"
    }
   ],
   "source": [
    "chain = RunnableParallel(context=retriever, question=RunnablePassthrough()) \\\n",
    "        | prompt\n",
    "chain.invoke(\"Tell me something about sora, developed by OpenAI\")"
   ]
  },
  {
   "cell_type": "code",
   "execution_count": 15,
   "id": "9cec3a58-1a58-4869-9bcf-e6f0970bb1ae",
   "metadata": {},
   "outputs": [
    {
     "data": {
      "text/plain": [
       "\"I don't know.\""
      ]
     },
     "execution_count": 15,
     "metadata": {},
     "output_type": "execute_result"
    }
   ],
   "source": [
    "chain = RunnableParallel(context=retriever, question=RunnablePassthrough()) \\\n",
    "        | prompt \\\n",
    "        | llm \\\n",
    "        | StrOutputParser()\n",
    "chain.invoke(\"Tell me something about sora, developed by OpenAI\")"
   ]
  },
  {
   "cell_type": "code",
   "execution_count": null,
   "id": "dea4d997-cf95-4d28-8f28-abfdfc195767",
   "metadata": {},
   "outputs": [],
   "source": []
  }
 ],
 "metadata": {
  "kernelspec": {
   "display_name": "Python 3 (ipykernel)",
   "language": "python",
   "name": "python3"
  },
  "language_info": {
   "codemirror_mode": {
    "name": "ipython",
    "version": 3
   },
   "file_extension": ".py",
   "mimetype": "text/x-python",
   "name": "python",
   "nbconvert_exporter": "python",
   "pygments_lexer": "ipython3",
   "version": "3.11.4"
  }
 },
 "nbformat": 4,
 "nbformat_minor": 5
}
